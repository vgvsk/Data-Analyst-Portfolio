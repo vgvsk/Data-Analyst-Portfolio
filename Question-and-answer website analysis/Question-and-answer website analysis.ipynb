{
 "cells": [
  {
   "cell_type": "markdown",
   "id": "68e35b44",
   "metadata": {
    "toc": true
   },
   "source": [
    "<h1>Содержание<span class=\"tocSkip\"></span></h1>\n",
    "<div class=\"toc\"><ul class=\"toc-item\"><li><span><a href=\"#Описание-проекта\" data-toc-modified-id=\"Описание-проекта-1\"><span class=\"toc-item-num\">1&nbsp;&nbsp;</span>Описание проекта</a></span></li><li><span><a href=\"#Загрузка-данных\" data-toc-modified-id=\"Загрузка-данных-2\"><span class=\"toc-item-num\">2&nbsp;&nbsp;</span>Загрузка данных</a></span></li><li><span><a href=\"#Исследование-данных\" data-toc-modified-id=\"Исследование-данных-3\"><span class=\"toc-item-num\">3&nbsp;&nbsp;</span>Исследование данных</a></span><ul class=\"toc-item\"><li><span><a href=\"#Общая-сумма-просмотров-постов-за-каждый-месяц-2008-года\" data-toc-modified-id=\"Общая-сумма-просмотров-постов-за-каждый-месяц-2008-года-3.1\"><span class=\"toc-item-num\">3.1&nbsp;&nbsp;</span>Общая сумма просмотров постов за каждый месяц 2008 года</a></span></li><li><span><a href=\"#Имена-самых-активных-пользователей-по-кол-ву-ответов-на-вопросы\" data-toc-modified-id=\"Имена-самых-активных-пользователей-по-кол-ву-ответов-на-вопросы-3.2\"><span class=\"toc-item-num\">3.2&nbsp;&nbsp;</span>Имена самых активных пользователей по кол-ву ответов на вопросы</a></span></li><li><span><a href=\"#Кол-во-постов-за-2008-год-по-месяцам\" data-toc-modified-id=\"Кол-во-постов-за-2008-год-по-месяцам-3.3\"><span class=\"toc-item-num\">3.3&nbsp;&nbsp;</span>Кол-во постов за 2008 год по месяцам</a></span></li><li><span><a href=\"#Данные-об-опубликованных-постах\" data-toc-modified-id=\"Данные-об-опубликованных-постах-3.4\"><span class=\"toc-item-num\">3.4&nbsp;&nbsp;</span>Данные об опубликованных постах</a></span></li><li><span><a href=\"#Взаимодействие-пользователей-с-платформой\" data-toc-modified-id=\"Взаимодействие-пользователей-с-платформой-3.5\"><span class=\"toc-item-num\">3.5&nbsp;&nbsp;</span>Взаимодействие пользователей с платформой</a></span></li><li><span><a href=\"#Динамика-кол-ва-постов-в-%-по-месяцам-с-1-сентября-по-31-декабря-2008-года\" data-toc-modified-id=\"Динамика-кол-ва-постов-в-%-по-месяцам-с-1-сентября-по-31-декабря-2008-года-3.6\"><span class=\"toc-item-num\">3.6&nbsp;&nbsp;</span>Динамика кол-ва постов в % по месяцам с 1 сентября по 31 декабря 2008 года</a></span></li><li><span><a href=\"#Динамика-активности-пользователя,-который-опубликовал-больше-всего-постов-за-всё-время\" data-toc-modified-id=\"Динамика-активности-пользователя,-который-опубликовал-больше-всего-постов-за-всё-время-3.7\"><span class=\"toc-item-num\">3.7&nbsp;&nbsp;</span>Динамика активности пользователя, который опубликовал больше всего постов за всё время</a></span></li></ul></li><li><span><a href=\"#Общие-выводы\" data-toc-modified-id=\"Общие-выводы-4\"><span class=\"toc-item-num\">4&nbsp;&nbsp;</span>Общие выводы</a></span></li></ul></div>"
   ]
  },
  {
   "cell_type": "markdown",
   "id": "e7e7a206",
   "metadata": {},
   "source": [
    "# Активность пользователей сервиса Stackoverflow в 2008 году"
   ]
  },
  {
   "cell_type": "markdown",
   "id": "1141d0a8",
   "metadata": {},
   "source": [
    "## Описание проекта"
   ]
  },
  {
   "cell_type": "markdown",
   "id": "f0831460",
   "metadata": {},
   "source": [
    "**Цель** — изучить активность пользователей сервиса вопросов-и-ответов по программированию, Stack Overflow, за 2008 год.\n",
    "\n",
    "**Задачи проекта**:\n",
    "\n",
    "- посчитать общую сумму просмотров постов за каждый месяц 2008 года;\n",
    "- определить самых активных по количеству ответов пользователей;\n",
    "- изучить количество постов за 2008 год по месяцам;\n",
    "- вывести данные об опубликованных постах;\n",
    "- изучить взаимодействие пользователей с платформой в первую неделю декабря;\n",
    "- проанализировать динамику количества постов в % по месяцам с 1 сентября по 31 декабря;\n",
    "- изучить динамику активности пользователя,который опубликовал больше всего постов за весь анализируемый период."
   ]
  },
  {
   "cell_type": "markdown",
   "id": "cb4ef393",
   "metadata": {},
   "source": [
    "## Загрузка данных"
   ]
  },
  {
   "cell_type": "code",
   "execution_count": 1,
   "id": "c70665ed",
   "metadata": {},
   "outputs": [],
   "source": [
    "#импорт необходимых библиотек\n",
    "import pandas as pd\n",
    "import psycopg2 as ps\n",
    "import pandas.io.sql as sqlio"
   ]
  },
  {
   "cell_type": "code",
   "execution_count": 2,
   "id": "618b6902",
   "metadata": {},
   "outputs": [],
   "source": [
    "#подключение к локальной базе данных PostgreSQL\n",
    "conn2=ps.connect(dbname = 'stackoverflow', \n",
    "                user = 'postgres',\n",
    "                password = 'lnusd572-89FnsW-s', \n",
    "                host = 'localhost',\n",
    "                port = '5432')"
   ]
  },
  {
   "cell_type": "markdown",
   "id": "e3a9f6d3",
   "metadata": {},
   "source": [
    "## Исследование данных"
   ]
  },
  {
   "cell_type": "markdown",
   "id": "39f1b462",
   "metadata": {},
   "source": [
    "### Общая сумма просмотров постов за каждый месяц 2008 года"
   ]
  },
  {
   "cell_type": "markdown",
   "id": "fc02ea01",
   "metadata": {},
   "source": [
    "Данные отсортированы в порядке убывания суммы просмотров и не включают месяцы с нулевым значением кол-ва просмотров."
   ]
  },
  {
   "cell_type": "code",
   "execution_count": 3,
   "id": "4dbfd5bd",
   "metadata": {},
   "outputs": [
    {
     "data": {
      "text/html": [
       "<div>\n",
       "<style scoped>\n",
       "    .dataframe tbody tr th:only-of-type {\n",
       "        vertical-align: middle;\n",
       "    }\n",
       "\n",
       "    .dataframe tbody tr th {\n",
       "        vertical-align: top;\n",
       "    }\n",
       "\n",
       "    .dataframe thead th {\n",
       "        text-align: right;\n",
       "    }\n",
       "</style>\n",
       "<table border=\"1\" class=\"dataframe\">\n",
       "  <thead>\n",
       "    <tr style=\"text-align: right;\">\n",
       "      <th></th>\n",
       "      <th>create_date</th>\n",
       "      <th>views_sum</th>\n",
       "    </tr>\n",
       "  </thead>\n",
       "  <tbody>\n",
       "    <tr>\n",
       "      <th>0</th>\n",
       "      <td>2008-09-01</td>\n",
       "      <td>471070280</td>\n",
       "    </tr>\n",
       "    <tr>\n",
       "      <th>1</th>\n",
       "      <td>2008-10-01</td>\n",
       "      <td>386690976</td>\n",
       "    </tr>\n",
       "    <tr>\n",
       "      <th>2</th>\n",
       "      <td>2008-11-01</td>\n",
       "      <td>245912222</td>\n",
       "    </tr>\n",
       "    <tr>\n",
       "      <th>3</th>\n",
       "      <td>2008-12-01</td>\n",
       "      <td>226573064</td>\n",
       "    </tr>\n",
       "    <tr>\n",
       "      <th>4</th>\n",
       "      <td>2008-08-01</td>\n",
       "      <td>133366451</td>\n",
       "    </tr>\n",
       "    <tr>\n",
       "      <th>5</th>\n",
       "      <td>2008-07-01</td>\n",
       "      <td>669895</td>\n",
       "    </tr>\n",
       "  </tbody>\n",
       "</table>\n",
       "</div>"
      ],
      "text/plain": [
       "  create_date  views_sum\n",
       "0  2008-09-01  471070280\n",
       "1  2008-10-01  386690976\n",
       "2  2008-11-01  245912222\n",
       "3  2008-12-01  226573064\n",
       "4  2008-08-01  133366451\n",
       "5  2008-07-01     669895"
      ]
     },
     "execution_count": 3,
     "metadata": {},
     "output_type": "execute_result"
    }
   ],
   "source": [
    "#сгруппируем просмотры по дате создания постов и посчитаем их сумму\n",
    "query = '''SELECT CAST(DATE_TRUNC('month', creation_date) AS date) AS create_date,\n",
    "                  SUM(view_count) AS views_sum\n",
    "           FROM posts\n",
    "           WHERE view_count != 0 AND EXTRACT(YEAR FROM CAST(creation_date AS date)) = '2008'\n",
    "           GROUP BY create_date\n",
    "           ORDER BY views_sum DESC'''\n",
    "\n",
    "sqlio.read_sql_query(query,conn2)"
   ]
  },
  {
   "cell_type": "markdown",
   "id": "96eacc5a",
   "metadata": {},
   "source": [
    "**Вывод**\n",
    "\n",
    "Самый активный месяц по кол-ву просмотров — **сентябрь**. Повышение активности в сентябре и октябре может быть связано с началом учебного года. Ближе к декабрю кол-во просмотров снижается. Слишком низкая активность наблюдается в **июле**. Возможно, что данные за этот месяц неполные. "
   ]
  },
  {
   "cell_type": "markdown",
   "id": "87a578a8",
   "metadata": {},
   "source": [
    "### Имена самых активных пользователей по кол-ву ответов на вопросы"
   ]
  },
  {
   "cell_type": "markdown",
   "id": "7c33dffd",
   "metadata": {},
   "source": [
    "Для анализа отобраны пользователи, которые в первый месяц после регистрации (включая день регистрации) дали **больше 100 ответов**. В таблице для каждого имени пользователя выведено кол-во уникальных id пользователей, так как одному имени может соответствовать несколько id."
   ]
  },
  {
   "cell_type": "code",
   "execution_count": 4,
   "id": "7335c221",
   "metadata": {},
   "outputs": [
    {
     "data": {
      "text/html": [
       "<div>\n",
       "<style scoped>\n",
       "    .dataframe tbody tr th:only-of-type {\n",
       "        vertical-align: middle;\n",
       "    }\n",
       "\n",
       "    .dataframe tbody tr th {\n",
       "        vertical-align: top;\n",
       "    }\n",
       "\n",
       "    .dataframe thead th {\n",
       "        text-align: right;\n",
       "    }\n",
       "</style>\n",
       "<table border=\"1\" class=\"dataframe\">\n",
       "  <thead>\n",
       "    <tr style=\"text-align: right;\">\n",
       "      <th></th>\n",
       "      <th>user_name</th>\n",
       "      <th>user_id_sum</th>\n",
       "    </tr>\n",
       "  </thead>\n",
       "  <tbody>\n",
       "    <tr>\n",
       "      <th>0</th>\n",
       "      <td>1800 INFORMATION</td>\n",
       "      <td>1</td>\n",
       "    </tr>\n",
       "    <tr>\n",
       "      <th>1</th>\n",
       "      <td>Aaron Digulla</td>\n",
       "      <td>1</td>\n",
       "    </tr>\n",
       "    <tr>\n",
       "      <th>2</th>\n",
       "      <td>Adam Bellaire</td>\n",
       "      <td>1</td>\n",
       "    </tr>\n",
       "    <tr>\n",
       "      <th>3</th>\n",
       "      <td>Adam Davis</td>\n",
       "      <td>1</td>\n",
       "    </tr>\n",
       "    <tr>\n",
       "      <th>4</th>\n",
       "      <td>Adam Liss</td>\n",
       "      <td>1</td>\n",
       "    </tr>\n",
       "    <tr>\n",
       "      <th>...</th>\n",
       "      <td>...</td>\n",
       "      <td>...</td>\n",
       "    </tr>\n",
       "    <tr>\n",
       "      <th>88</th>\n",
       "      <td>paxdiablo</td>\n",
       "      <td>1</td>\n",
       "    </tr>\n",
       "    <tr>\n",
       "      <th>89</th>\n",
       "      <td>strager</td>\n",
       "      <td>1</td>\n",
       "    </tr>\n",
       "    <tr>\n",
       "      <th>90</th>\n",
       "      <td>tvanfosson</td>\n",
       "      <td>1</td>\n",
       "    </tr>\n",
       "    <tr>\n",
       "      <th>91</th>\n",
       "      <td>tzot</td>\n",
       "      <td>1</td>\n",
       "    </tr>\n",
       "    <tr>\n",
       "      <th>92</th>\n",
       "      <td>workmad3</td>\n",
       "      <td>1</td>\n",
       "    </tr>\n",
       "  </tbody>\n",
       "</table>\n",
       "<p>93 rows × 2 columns</p>\n",
       "</div>"
      ],
      "text/plain": [
       "           user_name  user_id_sum\n",
       "0   1800 INFORMATION            1\n",
       "1      Aaron Digulla            1\n",
       "2      Adam Bellaire            1\n",
       "3         Adam Davis            1\n",
       "4          Adam Liss            1\n",
       "..               ...          ...\n",
       "88         paxdiablo            1\n",
       "89           strager            1\n",
       "90        tvanfosson            1\n",
       "91              tzot            1\n",
       "92          workmad3            1\n",
       "\n",
       "[93 rows x 2 columns]"
      ]
     },
     "execution_count": 4,
     "metadata": {},
     "output_type": "execute_result"
    }
   ],
   "source": [
    "#отфильтруем данные, которые не попадают в первый месяц «существования» пользователя и не относятся к ответам\n",
    "#сгруппируем данные об id по именам пользователей, затем оставим тех, кто дал более 100 ответов\n",
    "query = '''SELECT display_name AS user_name,\n",
    "                  COUNT(DISTINCT p.owner_id) AS user_id_sum\n",
    "           FROM users AS u\n",
    "           JOIN posts AS p ON p.owner_id = u.id\n",
    "\n",
    "           WHERE DATE_TRUNC('day', p.creation_date) >= DATE_TRUNC('day', u.creation_date)\n",
    "           AND DATE_TRUNC('day', p.creation_date) <= DATE_TRUNC('day', u.creation_date) + INTERVAL '1 month'\n",
    "\n",
    "           AND p.post_type_id = \n",
    "\n",
    "           (SELECT id\n",
    "           FROM post_type\n",
    "           WHERE type = 'Answer')\n",
    "\n",
    "           GROUP BY display_name\n",
    "           HAVING COUNT(*) > 100\n",
    "           ORDER BY user_name'''\n",
    "\n",
    "sqlio.read_sql_query(query,conn2)"
   ]
  },
  {
   "cell_type": "markdown",
   "id": "0e81590d",
   "metadata": {},
   "source": [
    "### Кол-во постов за 2008 год по месяцам"
   ]
  },
  {
   "cell_type": "markdown",
   "id": "95c30eaf",
   "metadata": {},
   "source": [
    "Для анализа отобраны пользователи, которые **зарегистрировались в сентябре 2008 года** и сделали хотя бы один пост в декабре того же года. Данные отсортированы по убыванию месяца."
   ]
  },
  {
   "cell_type": "code",
   "execution_count": 5,
   "id": "8b60349c",
   "metadata": {},
   "outputs": [
    {
     "data": {
      "text/html": [
       "<div>\n",
       "<style scoped>\n",
       "    .dataframe tbody tr th:only-of-type {\n",
       "        vertical-align: middle;\n",
       "    }\n",
       "\n",
       "    .dataframe tbody tr th {\n",
       "        vertical-align: top;\n",
       "    }\n",
       "\n",
       "    .dataframe thead th {\n",
       "        text-align: right;\n",
       "    }\n",
       "</style>\n",
       "<table border=\"1\" class=\"dataframe\">\n",
       "  <thead>\n",
       "    <tr style=\"text-align: right;\">\n",
       "      <th></th>\n",
       "      <th>month_post</th>\n",
       "      <th>count</th>\n",
       "    </tr>\n",
       "  </thead>\n",
       "  <tbody>\n",
       "    <tr>\n",
       "      <th>0</th>\n",
       "      <td>2008-12-01</td>\n",
       "      <td>19360</td>\n",
       "    </tr>\n",
       "    <tr>\n",
       "      <th>1</th>\n",
       "      <td>2008-11-01</td>\n",
       "      <td>19917</td>\n",
       "    </tr>\n",
       "    <tr>\n",
       "      <th>2</th>\n",
       "      <td>2008-10-01</td>\n",
       "      <td>29070</td>\n",
       "    </tr>\n",
       "    <tr>\n",
       "      <th>3</th>\n",
       "      <td>2008-09-01</td>\n",
       "      <td>26637</td>\n",
       "    </tr>\n",
       "    <tr>\n",
       "      <th>4</th>\n",
       "      <td>2008-08-01</td>\n",
       "      <td>32</td>\n",
       "    </tr>\n",
       "  </tbody>\n",
       "</table>\n",
       "</div>"
      ],
      "text/plain": [
       "   month_post  count\n",
       "0  2008-12-01  19360\n",
       "1  2008-11-01  19917\n",
       "2  2008-10-01  29070\n",
       "3  2008-09-01  26637\n",
       "4  2008-08-01     32"
      ]
     },
     "execution_count": 5,
     "metadata": {},
     "output_type": "execute_result"
    }
   ],
   "source": [
    "#отберём тех пользователей, которые зарегистрировались с 1 по 30 сентября и создали посты с 1 по 31 декабря\n",
    "#данные сгруппируем и отсортируем по месяцу \n",
    "query = '''SELECT DATE_TRUNC('month', p.creation_date) :: date AS month_post,\n",
    "                  COUNT(p.id)\n",
    "           FROM posts AS p\n",
    "           WHERE p.owner_id IN\n",
    "\n",
    "           (SELECT DISTINCT u.id\n",
    "            FROM users AS u\n",
    "            JOIN posts AS p ON u.id = p.owner_id\n",
    "            WHERE (u.creation_date :: date BETWEEN '2008-09-01' AND '2008-09-30') AND\n",
    "            (p.creation_date :: date BETWEEN '2008-12-01' AND '2008-12-31'))\n",
    "\n",
    "          GROUP BY 1\n",
    "          ORDER BY month_post DESC'''\n",
    "\n",
    "sqlio.read_sql_query(query,conn2)"
   ]
  },
  {
   "cell_type": "markdown",
   "id": "f1511175",
   "metadata": {},
   "source": [
    "**Вывод**\n",
    "\n",
    "Стоит обратить внимание на **октябрь** — кол-во постов у сентябрьской когорты в этот месяц самое высокое, хотя общая сумма просмотров выше в сентябре. Ближе к декабрю активность пользователей, которые делают посты, снижается. Это соответствует общему тренду по кол-ву просмотров постов. \n",
    "\n",
    "В таблицу попали данные за август. Выходит, что пользователи, которые зарегистрировались в сентябре, были активны и в августе. Здесь явная **ошибка в данных**."
   ]
  },
  {
   "cell_type": "markdown",
   "id": "25f912c3",
   "metadata": {},
   "source": [
    "### Данные об опубликованных постах"
   ]
  },
  {
   "cell_type": "markdown",
   "id": "8d2c9b1e",
   "metadata": {},
   "source": [
    "Для анализа отобраны следующие признаки: идентификатор пользователя, который написал пост; дата создания поста; кол-во просмотров у текущего поста; сумма просмотров постов автора с накоплением."
   ]
  },
  {
   "cell_type": "code",
   "execution_count": 6,
   "id": "bbef53e9",
   "metadata": {},
   "outputs": [
    {
     "data": {
      "text/html": [
       "<div>\n",
       "<style scoped>\n",
       "    .dataframe tbody tr th:only-of-type {\n",
       "        vertical-align: middle;\n",
       "    }\n",
       "\n",
       "    .dataframe tbody tr th {\n",
       "        vertical-align: top;\n",
       "    }\n",
       "\n",
       "    .dataframe thead th {\n",
       "        text-align: right;\n",
       "    }\n",
       "</style>\n",
       "<table border=\"1\" class=\"dataframe\">\n",
       "  <thead>\n",
       "    <tr style=\"text-align: right;\">\n",
       "      <th></th>\n",
       "      <th>owner_id</th>\n",
       "      <th>creation_date</th>\n",
       "      <th>view_count</th>\n",
       "      <th>sum</th>\n",
       "    </tr>\n",
       "  </thead>\n",
       "  <tbody>\n",
       "    <tr>\n",
       "      <th>0</th>\n",
       "      <td>0</td>\n",
       "      <td>2008-08-01 05:12:44.193</td>\n",
       "      <td>0</td>\n",
       "      <td>0</td>\n",
       "    </tr>\n",
       "    <tr>\n",
       "      <th>1</th>\n",
       "      <td>0</td>\n",
       "      <td>2008-08-01 12:22:51.593</td>\n",
       "      <td>0</td>\n",
       "      <td>0</td>\n",
       "    </tr>\n",
       "    <tr>\n",
       "      <th>2</th>\n",
       "      <td>0</td>\n",
       "      <td>2008-08-01 12:30:57.630</td>\n",
       "      <td>8102</td>\n",
       "      <td>8102</td>\n",
       "    </tr>\n",
       "    <tr>\n",
       "      <th>3</th>\n",
       "      <td>0</td>\n",
       "      <td>2008-08-01 13:17:20.640</td>\n",
       "      <td>2450</td>\n",
       "      <td>10552</td>\n",
       "    </tr>\n",
       "    <tr>\n",
       "      <th>4</th>\n",
       "      <td>0</td>\n",
       "      <td>2008-08-01 14:41:01.110</td>\n",
       "      <td>0</td>\n",
       "      <td>10552</td>\n",
       "    </tr>\n",
       "    <tr>\n",
       "      <th>...</th>\n",
       "      <td>...</td>\n",
       "      <td>...</td>\n",
       "      <td>...</td>\n",
       "      <td>...</td>\n",
       "    </tr>\n",
       "    <tr>\n",
       "      <th>274531</th>\n",
       "      <td>5696608</td>\n",
       "      <td>2008-12-24 01:02:48.070</td>\n",
       "      <td>0</td>\n",
       "      <td>2804</td>\n",
       "    </tr>\n",
       "    <tr>\n",
       "      <th>274532</th>\n",
       "      <td>5696608</td>\n",
       "      <td>2008-12-30 14:34:44.713</td>\n",
       "      <td>0</td>\n",
       "      <td>2804</td>\n",
       "    </tr>\n",
       "    <tr>\n",
       "      <th>274533</th>\n",
       "      <td>5696608</td>\n",
       "      <td>2008-12-30 15:46:47.657</td>\n",
       "      <td>0</td>\n",
       "      <td>2804</td>\n",
       "    </tr>\n",
       "    <tr>\n",
       "      <th>274534</th>\n",
       "      <td>5696608</td>\n",
       "      <td>2008-12-30 16:32:12.277</td>\n",
       "      <td>0</td>\n",
       "      <td>2804</td>\n",
       "    </tr>\n",
       "    <tr>\n",
       "      <th>274535</th>\n",
       "      <td>5696608</td>\n",
       "      <td>2008-12-31 18:32:39.287</td>\n",
       "      <td>0</td>\n",
       "      <td>2804</td>\n",
       "    </tr>\n",
       "  </tbody>\n",
       "</table>\n",
       "<p>274536 rows × 4 columns</p>\n",
       "</div>"
      ],
      "text/plain": [
       "        owner_id           creation_date  view_count    sum\n",
       "0              0 2008-08-01 05:12:44.193           0      0\n",
       "1              0 2008-08-01 12:22:51.593           0      0\n",
       "2              0 2008-08-01 12:30:57.630        8102   8102\n",
       "3              0 2008-08-01 13:17:20.640        2450  10552\n",
       "4              0 2008-08-01 14:41:01.110           0  10552\n",
       "...          ...                     ...         ...    ...\n",
       "274531   5696608 2008-12-24 01:02:48.070           0   2804\n",
       "274532   5696608 2008-12-30 14:34:44.713           0   2804\n",
       "274533   5696608 2008-12-30 15:46:47.657           0   2804\n",
       "274534   5696608 2008-12-30 16:32:12.277           0   2804\n",
       "274535   5696608 2008-12-31 18:32:39.287           0   2804\n",
       "\n",
       "[274536 rows x 4 columns]"
      ]
     },
     "execution_count": 6,
     "metadata": {},
     "output_type": "execute_result"
    }
   ],
   "source": [
    "#объединим данные в \"окна\" по каждому пользователю и отсортируем их по \"возрастанию\" даты создания поста\n",
    "#отдельно посчитаем сумму с накомплением для каждого \"окна\"\n",
    "query = '''SELECT owner_id,\n",
    "                  creation_date,\n",
    "                  view_count,\n",
    "           SUM(view_count) OVER(PARTITION BY owner_id ORDER BY creation_date)\n",
    "           FROM posts\n",
    "           ORDER BY owner_id'''\n",
    "\n",
    "sqlio.read_sql_query(query,conn2)"
   ]
  },
  {
   "cell_type": "markdown",
   "id": "f2d98264",
   "metadata": {},
   "source": [
    "### Взаимодействие пользователей с платформой"
   ]
  },
  {
   "cell_type": "markdown",
   "id": "d7873435",
   "metadata": {},
   "source": [
    "Данные показывают, сколько в среднем дней в период с 1 по 7 декабря 2008 года включительно пользователи взаимодействовали с платформой. Для каждого пользователя отобраны дни, в которые он или она опубликовали хотя бы один пост."
   ]
  },
  {
   "cell_type": "code",
   "execution_count": 7,
   "id": "43d620d9",
   "metadata": {},
   "outputs": [
    {
     "data": {
      "text/html": [
       "<div>\n",
       "<style scoped>\n",
       "    .dataframe tbody tr th:only-of-type {\n",
       "        vertical-align: middle;\n",
       "    }\n",
       "\n",
       "    .dataframe tbody tr th {\n",
       "        vertical-align: top;\n",
       "    }\n",
       "\n",
       "    .dataframe thead th {\n",
       "        text-align: right;\n",
       "    }\n",
       "</style>\n",
       "<table border=\"1\" class=\"dataframe\">\n",
       "  <thead>\n",
       "    <tr style=\"text-align: right;\">\n",
       "      <th></th>\n",
       "      <th>round</th>\n",
       "    </tr>\n",
       "  </thead>\n",
       "  <tbody>\n",
       "    <tr>\n",
       "      <th>0</th>\n",
       "      <td>2.0</td>\n",
       "    </tr>\n",
       "  </tbody>\n",
       "</table>\n",
       "</div>"
      ],
      "text/plain": [
       "   round\n",
       "0    2.0"
      ]
     },
     "execution_count": 7,
     "metadata": {},
     "output_type": "execute_result"
    }
   ],
   "source": [
    "#создадим временные таблицы rows и max_values: первая — с номерами дней, \n",
    "#вторая — с последним номером аквтивного дня\n",
    "#посчитаем среднее значение номеров дней и округлим его\n",
    "query = '''WITH rows AS\n",
    "                (SELECT DISTINCT owner_id,\n",
    "                creation_date :: date,\n",
    "                DENSE_RANK() OVER(PARTITION BY owner_id ORDER BY EXTRACT(DAY FROM creation_date :: date)) AS rows\n",
    "                FROM posts AS p\n",
    "                WHERE creation_date :: date BETWEEN '2008-12-01' AND '2008-12-07'),\n",
    "\n",
    "                max_values AS\n",
    "                (SELECT DISTINCT owner_id,\n",
    "                MAX(rows) OVER(PARTITION BY owner_id) AS max_days\n",
    "                FROM rows)\n",
    "\n",
    "          SELECT ROUND(AVG(max_days))\n",
    "          FROM max_values'''\n",
    "\n",
    "sqlio.read_sql_query(query,conn2)"
   ]
  },
  {
   "cell_type": "markdown",
   "id": "d8319b0f",
   "metadata": {},
   "source": [
    "**Вывод**\n",
    "\n",
    "В среднем пользователи взаимодействовали с платформой 2 дня за всю первую неделю декабря."
   ]
  },
  {
   "cell_type": "markdown",
   "id": "4185d4b0",
   "metadata": {},
   "source": [
    "### Динамика кол-ва постов в % по месяцам с 1 сентября по 31 декабря 2008 года"
   ]
  },
  {
   "cell_type": "markdown",
   "id": "8566547b",
   "metadata": {},
   "source": [
    "Для анализа отобраны следующие признаки: номер месяца; количество постов за месяц; процент, который показывает, насколько изменилось количество постов в текущем месяце по сравнению с предыдущим."
   ]
  },
  {
   "cell_type": "code",
   "execution_count": 8,
   "id": "84034bfb",
   "metadata": {},
   "outputs": [
    {
     "data": {
      "text/html": [
       "<div>\n",
       "<style scoped>\n",
       "    .dataframe tbody tr th:only-of-type {\n",
       "        vertical-align: middle;\n",
       "    }\n",
       "\n",
       "    .dataframe tbody tr th {\n",
       "        vertical-align: top;\n",
       "    }\n",
       "\n",
       "    .dataframe thead th {\n",
       "        text-align: right;\n",
       "    }\n",
       "</style>\n",
       "<table border=\"1\" class=\"dataframe\">\n",
       "  <thead>\n",
       "    <tr style=\"text-align: right;\">\n",
       "      <th></th>\n",
       "      <th>month_post</th>\n",
       "      <th>posts_count</th>\n",
       "      <th>round</th>\n",
       "    </tr>\n",
       "  </thead>\n",
       "  <tbody>\n",
       "    <tr>\n",
       "      <th>0</th>\n",
       "      <td>9.0</td>\n",
       "      <td>77220</td>\n",
       "      <td>NaN</td>\n",
       "    </tr>\n",
       "    <tr>\n",
       "      <th>1</th>\n",
       "      <td>10.0</td>\n",
       "      <td>70144</td>\n",
       "      <td>-9.16</td>\n",
       "    </tr>\n",
       "    <tr>\n",
       "      <th>2</th>\n",
       "      <td>11.0</td>\n",
       "      <td>54506</td>\n",
       "      <td>-22.29</td>\n",
       "    </tr>\n",
       "    <tr>\n",
       "      <th>3</th>\n",
       "      <td>12.0</td>\n",
       "      <td>53194</td>\n",
       "      <td>-2.41</td>\n",
       "    </tr>\n",
       "  </tbody>\n",
       "</table>\n",
       "</div>"
      ],
      "text/plain": [
       "   month_post  posts_count  round\n",
       "0         9.0        77220    NaN\n",
       "1        10.0        70144  -9.16\n",
       "2        11.0        54506 -22.29\n",
       "3        12.0        53194  -2.41"
      ]
     },
     "execution_count": 8,
     "metadata": {},
     "output_type": "execute_result"
    }
   ],
   "source": [
    "#создадим временную таблицу posts с количеством постов на каждый месяц публикации заданного периода\n",
    "#отдельно посчитаем процентную долю постов от предыдущего месяца\n",
    "query = '''WITH posts AS\n",
    "                (SELECT EXTRACT(MONTH FROM creation_date :: date) AS month_post,\n",
    "                COUNT(id) AS posts_count\n",
    "                FROM posts\n",
    "                WHERE creation_date :: date BETWEEN '2008-09-01' AND '2008-12-31'\n",
    "                GROUP BY month_post)\n",
    "\n",
    "          SELECT month_post,\n",
    "                 posts_count,\n",
    "          ROUND(((posts_count :: numeric / LAG (posts_count) OVER (ORDER BY month_post) - 1)) * 100, 2)\n",
    "          FROM posts\n",
    "'''\n",
    "\n",
    "sqlio.read_sql_query(query,conn2)"
   ]
  },
  {
   "cell_type": "markdown",
   "id": "fa310242",
   "metadata": {},
   "source": [
    "**Вывод**\n",
    "\n",
    "В **ноябре** виден наибольший спад кол-ва постов по сравнению с предыдущим месяцем. Необходимо понять, чем вызван такой резкий спад активности пользователей, создающих посты."
   ]
  },
  {
   "cell_type": "markdown",
   "id": "c6baacf8",
   "metadata": {},
   "source": [
    "### Динамика активности пользователя, который опубликовал больше всего постов за всё время"
   ]
  },
  {
   "cell_type": "markdown",
   "id": "ba538a6c",
   "metadata": {},
   "source": [
    "Для анализа были взяты данные за октябрь 2008 года. В таблицу были включены следующие признаки: номер недели; дата и время последнего поста, опубликованного на этой неделе."
   ]
  },
  {
   "cell_type": "code",
   "execution_count": 9,
   "id": "4d52c5d2",
   "metadata": {},
   "outputs": [
    {
     "data": {
      "text/html": [
       "<div>\n",
       "<style scoped>\n",
       "    .dataframe tbody tr th:only-of-type {\n",
       "        vertical-align: middle;\n",
       "    }\n",
       "\n",
       "    .dataframe tbody tr th {\n",
       "        vertical-align: top;\n",
       "    }\n",
       "\n",
       "    .dataframe thead th {\n",
       "        text-align: right;\n",
       "    }\n",
       "</style>\n",
       "<table border=\"1\" class=\"dataframe\">\n",
       "  <thead>\n",
       "    <tr style=\"text-align: right;\">\n",
       "      <th></th>\n",
       "      <th>week_post</th>\n",
       "      <th>max</th>\n",
       "    </tr>\n",
       "  </thead>\n",
       "  <tbody>\n",
       "    <tr>\n",
       "      <th>0</th>\n",
       "      <td>40.0</td>\n",
       "      <td>2008-10-05 23:59:31.853</td>\n",
       "    </tr>\n",
       "    <tr>\n",
       "      <th>1</th>\n",
       "      <td>41.0</td>\n",
       "      <td>2008-10-12 23:48:11.580</td>\n",
       "    </tr>\n",
       "    <tr>\n",
       "      <th>2</th>\n",
       "      <td>42.0</td>\n",
       "      <td>2008-10-19 23:50:08.763</td>\n",
       "    </tr>\n",
       "    <tr>\n",
       "      <th>3</th>\n",
       "      <td>43.0</td>\n",
       "      <td>2008-10-26 23:38:53.520</td>\n",
       "    </tr>\n",
       "    <tr>\n",
       "      <th>4</th>\n",
       "      <td>44.0</td>\n",
       "      <td>2008-10-31 23:45:06.480</td>\n",
       "    </tr>\n",
       "  </tbody>\n",
       "</table>\n",
       "</div>"
      ],
      "text/plain": [
       "   week_post                     max\n",
       "0       40.0 2008-10-05 23:59:31.853\n",
       "1       41.0 2008-10-12 23:48:11.580\n",
       "2       42.0 2008-10-19 23:50:08.763\n",
       "3       43.0 2008-10-26 23:38:53.520\n",
       "4       44.0 2008-10-31 23:45:06.480"
      ]
     },
     "execution_count": 9,
     "metadata": {},
     "output_type": "execute_result"
    }
   ],
   "source": [
    "#определим дату и время последнего поста каждой недели октября 2008 года\n",
    "#оставим данные, которые относятся к пользователю с самым большим кол-вом записей\n",
    "query = '''SELECT DISTINCT\n",
    "                  EXTRACT(WEEK FROM CAST(creation_date AS date)) AS week_post,\n",
    "                  MAX(creation_date) OVER(PARTITION BY EXTRACT(WEEK FROM CAST(creation_date AS date)))\n",
    "          FROM posts\n",
    "          WHERE DATE_TRUNC('month', creation_date) = '2008-10-01'\n",
    "          AND owner_id = \n",
    "\n",
    "            (\n",
    "                SELECT owner_id\n",
    "                FROM posts\n",
    "                GROUP BY owner_id\n",
    "                ORDER BY COUNT(*)  DESC\n",
    "                LIMIT 1\n",
    "            )'''\n",
    "\n",
    "sqlio.read_sql_query(query,conn2)"
   ]
  },
  {
   "cell_type": "markdown",
   "id": "8c4a2129",
   "metadata": {},
   "source": [
    "**Вывод**\n",
    "\n",
    "Каждую неделю самый активный пользователь заканчивал публиковать посты около **полуночи**.\n",
    "\n",
    "Как мы помним, в октябре кол-во постов самое высокое, а по кол-ву просмотров октябрь находится на втором месте. Возможно, снижение кол-во просмотров в октябре связано с **поздним временем активности пользователей**."
   ]
  },
  {
   "cell_type": "markdown",
   "id": "43f96ed4",
   "metadata": {},
   "source": [
    "## Общие выводы"
   ]
  },
  {
   "cell_type": "markdown",
   "id": "86619f06",
   "metadata": {},
   "source": [
    "**В ходе анализа данных было определено, что:**\n",
    "\n",
    "- пик активности по просмотрам приходится на сентябрь, что, скорее, связано с началом учебного года, затем показатель постепенно снижается;\n",
    "- тренды по просмотрам и публикации постов в целом схожи, однако наибольшее кол-во постов сделано в октября, что не совпадает с пиком активности по просмотрам — возможно, что в октябре существенная часть постов была создана в поздее время, что повлияло на кол-во просмотров;\n",
    "- в ноябре произошёл резкий спад кол-ва постов по сравнению с предыдущим месяцем — сейчас сказать сложно, чем он был вызван, требуется дополнительно изучить причины спада;\n",
    "- в первую неделю декабря — месяца с самой низкой активностью пользователей за период с сентября по декабрь — пользователи в среднем взаимодействовали с платформой 2 дня.\n",
    "\n",
    "**Ошибки в данных**\n",
    "\n",
    "- в записи о пользователях, которые зарегистрировались в сентябре 2008 года, попали данные о публикации постов за август."
   ]
  }
 ],
 "metadata": {
  "kernelspec": {
   "display_name": "Python 3 (ipykernel)",
   "language": "python",
   "name": "python3"
  },
  "language_info": {
   "codemirror_mode": {
    "name": "ipython",
    "version": 3
   },
   "file_extension": ".py",
   "mimetype": "text/x-python",
   "name": "python",
   "nbconvert_exporter": "python",
   "pygments_lexer": "ipython3",
   "version": "3.9.13"
  },
  "toc": {
   "base_numbering": 1,
   "nav_menu": {},
   "number_sections": true,
   "sideBar": true,
   "skip_h1_title": true,
   "title_cell": "Содержание",
   "title_sidebar": "Содержание",
   "toc_cell": true,
   "toc_position": {},
   "toc_section_display": true,
   "toc_window_display": true
  }
 },
 "nbformat": 4,
 "nbformat_minor": 5
}
